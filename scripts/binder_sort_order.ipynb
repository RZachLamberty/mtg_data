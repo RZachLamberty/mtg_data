{
 "cells": [
  {
   "cell_type": "markdown",
   "metadata": {},
   "source": [
    "# binder sort order\n",
    "\n",
    "script for generating the sort order of cards to be put into my binders"
   ]
  },
  {
   "cell_type": "markdown",
   "metadata": {},
   "source": [
    "## imports and environment setting"
   ]
  },
  {
   "cell_type": "code",
   "execution_count": null,
   "metadata": {},
   "outputs": [],
   "source": [
    "import sys, os\n",
    "\n",
    "sys.path.insert(0, os.path.realpath('../'))"
   ]
  },
  {
   "cell_type": "code",
   "execution_count": null,
   "metadata": {},
   "outputs": [],
   "source": [
    "import mtg.extract.tappedout as T"
   ]
  },
  {
   "cell_type": "code",
   "execution_count": null,
   "metadata": {},
   "outputs": [],
   "source": [
    "url = T._INVENTORY_URL\n",
    "owner = 'ndlambo'"
   ]
  },
  {
   "cell_type": "code",
   "execution_count": null,
   "metadata": {},
   "outputs": [],
   "source": [
    "import importlib\n",
    "importlib.reload(T)"
   ]
  },
  {
   "cell_type": "code",
   "execution_count": null,
   "metadata": {},
   "outputs": [],
   "source": [
    "T._logging.basicConfig()"
   ]
  },
  {
   "cell_type": "code",
   "execution_count": null,
   "metadata": {},
   "outputs": [],
   "source": [
    "bs = T.binder_summary(url, owner, mainthresh=0.9)"
   ]
  },
  {
   "cell_type": "code",
   "execution_count": null,
   "metadata": {},
   "outputs": [],
   "source": [
    "import math\n",
    "\n",
    "import ipywidgets\n",
    "\n",
    "from pprint import pprint"
   ]
  },
  {
   "cell_type": "code",
   "execution_count": null,
   "metadata": {
    "scrolled": false
   },
   "outputs": [],
   "source": [
    "page_size = 9\n",
    "num_pages = math.ceil(bs.shape[0] / page_size)\n",
    "@ipywidgets.interact(page=ipywidgets.IntSlider(values=0, min=0, max=num_pages))\n",
    "def foo(page):\n",
    "    print(f'page {page}:')\n",
    "    return (bs\n",
    "            .iloc[page_size * page: page_size * (page + 1)]\n",
    "           [['num_unclaimed', 'name', 'set', 'qty', 'colorIdentity',\n",
    "             'foil', 'mytype', 'convertedManaCost', 'price',\n",
    "             'in_collections']]\n",
    "           .rename(columns={'convertedManaCost': 'cmc'}))"
   ]
  },
  {
   "cell_type": "code",
   "execution_count": null,
   "metadata": {
    "scrolled": true
   },
   "outputs": [],
   "source": [
    "page_size = 9\n",
    "num_pages = math.ceil(bs.shape[0] / page_size)\n",
    "@ipywidgets.interact(page=ipywidgets.IntSlider(values=0, min=0, max=num_pages))\n",
    "def foo(page):\n",
    "    print(f'page {page}:')\n",
    "    return (bs\n",
    "            .iloc[page_size * page: page_size * (page + 1)]\n",
    "           [['num_unclaimed', 'name', 'set', 'qty', 'colorIdentity',\n",
    "             'foil', 'mytype', 'convertedManaCost', 'price',\n",
    "             'in_collections']]\n",
    "           .rename(columns={'convertedManaCost': 'cmc'}))"
   ]
  },
  {
   "cell_type": "code",
   "execution_count": null,
   "metadata": {},
   "outputs": [],
   "source": [
    "(bs\n",
    " [bs.set.isin(['KLD'])]\n",
    " [['num_unclaimed', 'name', 'set', 'qty', 'colorIdentity',\n",
    "   'foil', 'mytype', 'price', 'in_collections']])"
   ]
  },
  {
   "cell_type": "markdown",
   "metadata": {},
   "source": [
    "looking for secret multi-colored cards"
   ]
  },
  {
   "cell_type": "code",
   "execution_count": null,
   "metadata": {},
   "outputs": [],
   "source": [
    "inventory = T.df_inventory()"
   ]
  },
  {
   "cell_type": "code",
   "execution_count": null,
   "metadata": {},
   "outputs": [],
   "source": [
    "def num_unclaimed(rec):\n",
    "    try:\n",
    "        num_claimed = sum(_['qty']\n",
    "                          for _ in\n",
    "                          rec.other_collections['collections']\n",
    "                          if _['url'] in T._CURRENT_DECK_URLS)\n",
    "        return max(0, rec.qty - num_claimed)\n",
    "    except (AttributeError, TypeError):\n",
    "        return rec.qty\n",
    "    except Exception as e:\n",
    "        raise\n",
    "\n",
    "inventory.loc[:, 'num_unclaimed'] = (inventory\n",
    "                                     .apply(num_unclaimed, axis=1)\n",
    "                                     .fillna(0))\n",
    "inventory = inventory[inventory.num_unclaimed > 0].copy()\n",
    "\n",
    "# order also depends on number of colors involved in casting; create an\n",
    "# ordered category for this\n",
    "def colorstr(rec):\n",
    "    try:\n",
    "        return ''.join(sorted(rec))\n",
    "    except TypeError:\n",
    "        return ''\n",
    "\n",
    "inventory.loc[:, 'colorstr'] = inventory.colorIdentity.apply(colorstr)\n",
    "inventory.colorstr = inventory.colorstr.astype('category')\n",
    "\n",
    "def color_category_order(cat):\n",
    "    \"\"\"color order within the binder\"\"\"\n",
    "    numcolor = len(cat)\n",
    "    ismono = numcolor == 1\n",
    "    iscolorless = numcolor == 0\n",
    "    ismulti = numcolor > 1\n",
    "\n",
    "    return (not ismono,\n",
    "            not iscolorless,\n",
    "            not ismulti,\n",
    "            # just one in the opposite order\n",
    "            -numcolor,\n",
    "            # break ties by color\n",
    "            'W' not in cat,\n",
    "            'U' not in cat,\n",
    "            'B' not in cat,\n",
    "            'R' not in cat,\n",
    "            'G' not in cat,)\n",
    "\n",
    "orderedcats = sorted(inventory.colorstr.cat.categories,\n",
    "                     key=color_category_order)\n",
    "inventory.colorstr = (inventory\n",
    "                      .colorstr\n",
    "                      .cat\n",
    "                      .reorder_categories(orderedcats, ordered=True))\n",
    "\n",
    "# ditto for type\n",
    "inventory.loc[:, 'mytype'] = (inventory\n",
    "                              .type\n",
    "                              .str.replace('\\u2014', '-')\n",
    "                              .str.replace(' - ', '|')\n",
    "                              .str.extract('([^|]+)', expand=False))\n",
    "\n",
    "inventory.replace({'mytype': {'Artifact Land': 'Land',\n",
    "                              'Basic Land': 'Land',\n",
    "                              'Enchantment ': '',\n",
    "                              'Tribal ': '',\n",
    "                              'Legendary ': '',\n",
    "                              'Legendary Enchantment ': '', }, },\n",
    "                  inplace=True,\n",
    "                  regex=True)\n",
    "\n",
    "inventory.mytype = inventory.mytype.astype('category')\n",
    "\n",
    "def type_category_order(cat):\n",
    "    \"\"\"type order within the binder\"\"\"\n",
    "    cat = cat.lower()\n",
    "    return (cat != 'planeswalker',\n",
    "            cat != 'creature',\n",
    "            cat != 'enchantment',\n",
    "            cat != 'sorcery',\n",
    "            cat != 'instant',\n",
    "            cat != 'artifact',\n",
    "            cat != 'artifact creature',\n",
    "            cat != 'land',)\n",
    "\n",
    "orderedtypes = sorted(inventory.mytype.cat.categories,\n",
    "                      key=type_category_order)\n",
    "inventory.mytype = inventory.mytype.cat.reorder_categories(orderedtypes,\n",
    "                                                           ordered=True)\n",
    "\n",
    "# separate lands, even if they have color identity (otherwise they get\n",
    "# sorted in with their colors)\n",
    "inventory.loc[:, 'is_land'] = inventory.mytype == 'Land'\n",
    "\n",
    "# finally, sort everything\n",
    "inventory = inventory.sort_values(\n",
    "    by=['is_land', 'mytype', 'convertedManaCost', 'name', 'foil'])"
   ]
  },
  {
   "cell_type": "code",
   "execution_count": null,
   "metadata": {},
   "outputs": [],
   "source": [
    "def is_secret_multi(rec):\n",
    "    # avoid split cards\n",
    "    if '/' in rec['name']:\n",
    "        return False\n",
    "    \n",
    "    # no lands\n",
    "    if 'Land' in rec.type:\n",
    "        return False\n",
    "    \n",
    "    try:\n",
    "        ci = set(rec.colorIdentity)\n",
    "    except TypeError:\n",
    "        return False\n",
    "    if len(ci) < 2:\n",
    "        return False\n",
    "    \n",
    "    casting_costs = {c: str(rec.manaCost).count(c) for c in ci}\n",
    "    return 0 in casting_costs.values()\n",
    "\n",
    "multis = [\n",
    "    'Court Hussar',\n",
    "    #'Mardu Hateblade'\n",
    "]\n",
    "for m in multis:\n",
    "    rec = inventory[inventory['name'] == m].iloc[0]\n",
    "    assert is_secret_multi(rec)"
   ]
  },
  {
   "cell_type": "code",
   "execution_count": null,
   "metadata": {},
   "outputs": [],
   "source": [
    "inventory.loc[:, 'is_secret_multi'] = (inventory\n",
    "                                       .apply(is_secret_multi, axis=1))"
   ]
  },
  {
   "cell_type": "code",
   "execution_count": null,
   "metadata": {},
   "outputs": [],
   "source": [
    "keep_keys = ['name', 'qty', 'foil', 'px', 'tla', 'type', 'tcg-foil-price',\n",
    "             'colorIdentity', 'power', 'toughness', 'manaCost',\n",
    "             'convertedManaCost', 'set', 'in_collections', ]\n",
    "secret_multis = (inventory\n",
    "                 [inventory.is_secret_multi]\n",
    "                 [keep_keys])\n",
    "\n",
    "# secret_multis.head()"
   ]
  },
  {
   "cell_type": "code",
   "execution_count": null,
   "metadata": {
    "scrolled": false
   },
   "outputs": [],
   "source": [
    "COLOR = 'G'\n",
    "\n",
    "(secret_multis\n",
    " [secret_multis.manaCost.str.contains(COLOR)\n",
    "  & (secret_multis.px < 0.3)])"
   ]
  },
  {
   "cell_type": "markdown",
   "metadata": {},
   "source": [
    "# todo\n",
    "\n",
    "+ figure out why \"call to the grave\" doesn't register\n",
    "+ figure out where the \"call to the grave\" and \"fateful showdonw\" cards *should* go\n",
    "+ continue where we left off (colorless bulk cards)"
   ]
  },
  {
   "cell_type": "markdown",
   "metadata": {},
   "source": [
    "# dev"
   ]
  },
  {
   "cell_type": "markdown",
   "metadata": {},
   "source": []
  },
  {
   "cell_type": "code",
   "execution_count": null,
   "metadata": {},
   "outputs": [],
   "source": [
    "bs.head()"
   ]
  },
  {
   "cell_type": "code",
   "execution_count": null,
   "metadata": {},
   "outputs": [],
   "source": [
    "TROUBLESHOOT_CARDNAME = \"Apostle's Blessing\""
   ]
  },
  {
   "cell_type": "code",
   "execution_count": null,
   "metadata": {},
   "outputs": [],
   "source": [
    "bs[bs['name'].str.lower() == TROUBLESHOOT_CARDNAME.lower()]"
   ]
  },
  {
   "cell_type": "code",
   "execution_count": null,
   "metadata": {},
   "outputs": [],
   "source": []
  },
  {
   "cell_type": "code",
   "execution_count": null,
   "metadata": {},
   "outputs": [],
   "source": [
    "pagelength = 500\n",
    "_requests = T._requests\n",
    "_LOGGER = T._LOGGER\n",
    "cards = T.cards\n",
    "\n",
    "\n",
    "inventory = []\n",
    "params = {'length': pagelength, 'start': 0, }\n",
    "\n",
    "while True:\n",
    "    resp = _requests.get(url.format(owner=owner), params=params)\n",
    "\n",
    "    # we *should* be able to read everything returned this way\n",
    "    try:\n",
    "        j = resp.json()\n",
    "    except _JSONDecodeError:\n",
    "        print(resp.status_code)\n",
    "        raise\n",
    "\n",
    "    # j['data'] is a possibly-empty list. iterate until it's empty.\n",
    "    if j['data']:\n",
    "        inventory += j['data']\n",
    "        params['start'] += pagelength\n",
    "        _LOGGER.debug('collected {} records so far'.format(len(inventory)))\n",
    "    else:\n",
    "        break\n",
    "\n",
    "# we get a bit of extra information from the mtgjson site we'd like to join\n",
    "# in (specifically, cmc and color identity), so pivot that out into a more\n",
    "# useful lookup dict. include a hand-maintained mapping from mtgjson set\n",
    "# names to those supported in tappedout\n",
    "setname_remapping = {'CMA': 'CM1'}\n",
    "\n",
    "def parse_set_name(card):\n",
    "    setname = card.get('setname')\n",
    "    return setname_remapping.get(setname, setname)\n",
    "\n",
    "mtgjson = {(card.get('name', '').lower(), parse_set_name(card)): card\n",
    "           for card in cards.get_cards()}"
   ]
  },
  {
   "cell_type": "code",
   "execution_count": null,
   "metadata": {},
   "outputs": [],
   "source": [
    "_html = T._html\n",
    "\n",
    "for record in inventory:\n",
    "    record['qty'] = record['amount']['qty']\n",
    "    carddetails = _html.fromstring(record['card']).find('.//a').attrib\n",
    "    record.update({k.replace('data-', ''): v\n",
    "                   for (k, v) in carddetails.items()\n",
    "                   if k.startswith('data-')})\n",
    "    record.update(record['edit'])\n",
    "\n",
    "    # merging with mtgjson requires fixing the setname and the card name\n",
    "    setname = record['set']\n",
    "    if setname == '000':\n",
    "        for (_, sn) in record['all_printings']:\n",
    "            if sn != setname:\n",
    "                setname = sn\n",
    "                break\n",
    "\n",
    "    cardname = record['name'].lower()\n",
    "    \n",
    "    if cardname == TROUBLESHOOT_CARDNAME.lower():\n",
    "        print(record)\n",
    "        break"
   ]
  },
  {
   "cell_type": "code",
   "execution_count": null,
   "metadata": {},
   "outputs": [],
   "source": [
    "pprint(carddetails)"
   ]
  },
  {
   "cell_type": "code",
   "execution_count": null,
   "metadata": {},
   "outputs": [],
   "source": [
    "record.update(mtgjson.get((cardname, setname), {}))"
   ]
  },
  {
   "cell_type": "code",
   "execution_count": null,
   "metadata": {
    "scrolled": false
   },
   "outputs": [],
   "source": [
    "pprint(record)"
   ]
  },
  {
   "cell_type": "code",
   "execution_count": null,
   "metadata": {},
   "outputs": [],
   "source": [
    "is_foil = record['foil'] is not None\n",
    "is_foil"
   ]
  },
  {
   "cell_type": "code",
   "execution_count": null,
   "metadata": {},
   "outputs": [],
   "source": [
    "tcg_px_key = f\"tcg{'-foil' if is_foil else ''}-price\"\n",
    "price = float(record[tcg_px_key])"
   ]
  },
  {
   "cell_type": "code",
   "execution_count": null,
   "metadata": {},
   "outputs": [],
   "source": [
    "price"
   ]
  },
  {
   "cell_type": "code",
   "execution_count": null,
   "metadata": {},
   "outputs": [],
   "source": [
    "record['px'] = float(price)"
   ]
  },
  {
   "cell_type": "code",
   "execution_count": null,
   "metadata": {},
   "outputs": [],
   "source": [
    "record['in_collections'] = {_['url'] for _ in\n",
    "                                        record['other_collections'][\n",
    "                                            'collections']}"
   ]
  },
  {
   "cell_type": "code",
   "execution_count": null,
   "metadata": {},
   "outputs": [],
   "source": []
  },
  {
   "cell_type": "code",
   "execution_count": null,
   "metadata": {},
   "outputs": [],
   "source": []
  },
  {
   "cell_type": "code",
   "execution_count": null,
   "metadata": {},
   "outputs": [],
   "source": [
    "_pd = T._pd\n",
    "get_inventory = T.get_inventory\n",
    "\n",
    "inventory = _pd.DataFrame(get_inventory(url, owner))"
   ]
  },
  {
   "cell_type": "code",
   "execution_count": null,
   "metadata": {},
   "outputs": [],
   "source": [
    "rec.other_collections"
   ]
  },
  {
   "cell_type": "code",
   "execution_count": null,
   "metadata": {},
   "outputs": [],
   "source": [
    "_CURRENT_DECK_URLS = T._CURRENT_DECK_URLS\n",
    "rec = inventory.loc[inventory.name.str.lower() == TROUBLESHOOT_CARDNAME.lower()].iloc[0]\n",
    "num_already_claimed = sum(_['qty']\n",
    "                         for _ in rec.other_collections['collections']\n",
    "                         if _['url'] in _CURRENT_DECK_URLS)"
   ]
  },
  {
   "cell_type": "code",
   "execution_count": null,
   "metadata": {},
   "outputs": [],
   "source": [
    "num_already_claimed"
   ]
  },
  {
   "cell_type": "code",
   "execution_count": null,
   "metadata": {},
   "outputs": [],
   "source": [
    "_CURRENT_DECK_URLS = T._CURRENT_DECK_URLS\n",
    "\n",
    "# some collections are fixed and off limits -- if a card is in one,\n",
    "# we won't binder it. take the number of copies we have and subtract from\n",
    "# it the number of copies in decks we are preserving\n",
    "def num_unclaimed(rec):\n",
    "    try:\n",
    "        sacred_collections = rec.in_collections.intersection(_CURRENT_DECK_URLS)\n",
    "        num_claimed = len(sacred_collections)\n",
    "        return max(0, rec.qty - num_claimed)\n",
    "    except AttributeError:  # rec.in_collections can be None\n",
    "        return rec.qty\n",
    "\n",
    "inventory.loc[:, 'num_unclaimed'] = inventory.apply(num_unclaimed, axis=1)\n",
    "# inventory = inventory[inventory.num_unclaimed > 0]"
   ]
  },
  {
   "cell_type": "code",
   "execution_count": null,
   "metadata": {},
   "outputs": [],
   "source": [
    "inventory[inventory['name'] == TROUBLESHOOT_CARDNAME]"
   ]
  },
  {
   "cell_type": "code",
   "execution_count": null,
   "metadata": {},
   "outputs": [],
   "source": []
  },
  {
   "cell_type": "code",
   "execution_count": null,
   "metadata": {},
   "outputs": [],
   "source": []
  },
  {
   "cell_type": "code",
   "execution_count": null,
   "metadata": {},
   "outputs": [],
   "source": []
  },
  {
   "cell_type": "code",
   "execution_count": null,
   "metadata": {},
   "outputs": [],
   "source": []
  },
  {
   "cell_type": "code",
   "execution_count": null,
   "metadata": {},
   "outputs": [],
   "source": [
    "T._logging.basicConfig()\n",
    "inventory = T.df_inventory('http://tappedout.net/api/inventory/{owner:}/board/', 'ndlambo')"
   ]
  },
  {
   "cell_type": "code",
   "execution_count": null,
   "metadata": {},
   "outputs": [],
   "source": []
  }
 ],
 "metadata": {
  "kernelspec": {
   "display_name": "Python 3",
   "language": "python",
   "name": "python3"
  },
  "language_info": {
   "codemirror_mode": {
    "name": "ipython",
    "version": 3
   },
   "file_extension": ".py",
   "mimetype": "text/x-python",
   "name": "python",
   "nbconvert_exporter": "python",
   "pygments_lexer": "ipython3",
   "version": "3.7.3"
  },
  "toc": {
   "base_numbering": 1,
   "nav_menu": {},
   "number_sections": true,
   "sideBar": true,
   "skip_h1_title": false,
   "title_cell": "Table of Contents",
   "title_sidebar": "Contents",
   "toc_cell": false,
   "toc_position": {},
   "toc_section_display": true,
   "toc_window_display": false
  }
 },
 "nbformat": 4,
 "nbformat_minor": 2
}
