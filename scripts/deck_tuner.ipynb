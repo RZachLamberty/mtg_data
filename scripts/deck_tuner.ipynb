{
 "cells": [
  {
   "cell_type": "markdown",
   "metadata": {},
   "source": [
    "# deck tuner\n",
    "\n",
    "stuff to make decks better"
   ]
  },
  {
   "cell_type": "code",
   "execution_count": 1,
   "metadata": {},
   "outputs": [],
   "source": [
    "import sys, os\n",
    "\n",
    "sys.path.insert(0, os.path.realpath('../'))"
   ]
  },
  {
   "cell_type": "code",
   "execution_count": 2,
   "metadata": {},
   "outputs": [],
   "source": [
    "import logging\n",
    "\n",
    "import matplotlib.pyplot as plt\n",
    "import numpy as np\n",
    "\n",
    "from IPython.display import Image, display\n",
    "from ipywidgets import IntSlider, interact\n",
    "from scipy.stats import hypergeom\n",
    "\n",
    "from mtg.cards import all_land_card_names\n",
    "from mtg.extract.tappedout import TappedoutDeck, get_all_categories\n",
    "from mtg.utils import init_logging"
   ]
  },
  {
   "cell_type": "code",
   "execution_count": 3,
   "metadata": {},
   "outputs": [],
   "source": [
    "%matplotlib inline"
   ]
  },
  {
   "cell_type": "code",
   "execution_count": 4,
   "metadata": {},
   "outputs": [],
   "source": [
    "try:\n",
    "    import seaborn as sns\n",
    "    sns.set()\n",
    "except:\n",
    "    print(\"default styling\")"
   ]
  },
  {
   "cell_type": "markdown",
   "metadata": {},
   "source": [
    "## logging"
   ]
  },
  {
   "cell_type": "code",
   "execution_count": 5,
   "metadata": {},
   "outputs": [],
   "source": [
    "LOGGER = logging.getLogger('deck tuner')\n",
    "LOGGER.setLevel(logging.DEBUG)"
   ]
  },
  {
   "cell_type": "code",
   "execution_count": 6,
   "metadata": {},
   "outputs": [],
   "source": [
    "init_logging()"
   ]
  },
  {
   "cell_type": "markdown",
   "metadata": {},
   "source": [
    "## land tuning via hypergeometric calculation"
   ]
  },
  {
   "cell_type": "code",
   "execution_count": 7,
   "metadata": {},
   "outputs": [],
   "source": [
    "# deck_id = '12-07-19-jeskai-edh'\n",
    "# deck_id = '06-06-18-esper-blink'\n",
    "# deck_id = 'sprite-draw'\n",
    "# deck_id = 'doubling-season-edh'\n",
    "# deck_id = '23-03-17-gobrins'\n",
    "# deck_id = 'havoc-festival-edh'\n",
    "# deck_id = '19-02-17-AGL-breya-edh'\n",
    "# deck_id = '13-02-16-mizzix-of-the-izmagnus-edh'\n",
    "deck_id = 'zadaaaaaahhhhhhh-copy'"
   ]
  },
  {
   "cell_type": "code",
   "execution_count": 8,
   "metadata": {},
   "outputs": [
    {
     "name": "stdout",
     "output_type": "stream",
     "text": [
      "2019-08-22 17:55:26,630 DEBUG    [mtg.extract.tappedout.get_categories:271] loading categories for deck zadaaaaaahhhhhhh-copy\n"
     ]
    }
   ],
   "source": [
    "deck = TappedoutDeck(deck_id=deck_id,\n",
    "                     ignore_lands=False,\n",
    "                     with_tags=True)"
   ]
  },
  {
   "cell_type": "code",
   "execution_count": 9,
   "metadata": {},
   "outputs": [
    {
     "data": {
      "text/html": [
       "<div>\n",
       "<style scoped>\n",
       "    .dataframe tbody tr th:only-of-type {\n",
       "        vertical-align: middle;\n",
       "    }\n",
       "\n",
       "    .dataframe tbody tr th {\n",
       "        vertical-align: top;\n",
       "    }\n",
       "\n",
       "    .dataframe thead th {\n",
       "        text-align: right;\n",
       "    }\n",
       "</style>\n",
       "<table border=\"1\" class=\"dataframe\">\n",
       "  <thead>\n",
       "    <tr style=\"text-align: right;\">\n",
       "      <th></th>\n",
       "      <th>board</th>\n",
       "      <th>qty</th>\n",
       "      <th>name</th>\n",
       "      <th>printing</th>\n",
       "      <th>foil</th>\n",
       "      <th>alter</th>\n",
       "      <th>signed</th>\n",
       "      <th>condition</th>\n",
       "      <th>languange</th>\n",
       "      <th>tag_list</th>\n",
       "      <th>is_land</th>\n",
       "    </tr>\n",
       "  </thead>\n",
       "  <tbody>\n",
       "    <tr>\n",
       "      <th>0</th>\n",
       "      <td>main</td>\n",
       "      <td>1</td>\n",
       "      <td>Accelerate</td>\n",
       "      <td>TOR</td>\n",
       "      <td>NaN</td>\n",
       "      <td>NaN</td>\n",
       "      <td>NaN</td>\n",
       "      <td>NaN</td>\n",
       "      <td>NaN</td>\n",
       "      <td>NaN</td>\n",
       "      <td>False</td>\n",
       "    </tr>\n",
       "    <tr>\n",
       "      <th>1</th>\n",
       "      <td>main</td>\n",
       "      <td>1</td>\n",
       "      <td>Balduvian Rage</td>\n",
       "      <td>CSP</td>\n",
       "      <td>NaN</td>\n",
       "      <td>NaN</td>\n",
       "      <td>NaN</td>\n",
       "      <td>NaN</td>\n",
       "      <td>NaN</td>\n",
       "      <td>NaN</td>\n",
       "      <td>False</td>\n",
       "    </tr>\n",
       "    <tr>\n",
       "      <th>2</th>\n",
       "      <td>main</td>\n",
       "      <td>1</td>\n",
       "      <td>Battle Hymn</td>\n",
       "      <td>AVR</td>\n",
       "      <td>NaN</td>\n",
       "      <td>NaN</td>\n",
       "      <td>NaN</td>\n",
       "      <td>NaN</td>\n",
       "      <td>NaN</td>\n",
       "      <td>NaN</td>\n",
       "      <td>False</td>\n",
       "    </tr>\n",
       "    <tr>\n",
       "      <th>3</th>\n",
       "      <td>main</td>\n",
       "      <td>1</td>\n",
       "      <td>Beetleback Chief</td>\n",
       "      <td>EMA</td>\n",
       "      <td>NaN</td>\n",
       "      <td>NaN</td>\n",
       "      <td>NaN</td>\n",
       "      <td>NaN</td>\n",
       "      <td>NaN</td>\n",
       "      <td>NaN</td>\n",
       "      <td>False</td>\n",
       "    </tr>\n",
       "    <tr>\n",
       "      <th>5</th>\n",
       "      <td>main</td>\n",
       "      <td>1</td>\n",
       "      <td>Boiling Blood</td>\n",
       "      <td>WTH</td>\n",
       "      <td>NaN</td>\n",
       "      <td>NaN</td>\n",
       "      <td>NaN</td>\n",
       "      <td>NaN</td>\n",
       "      <td>NaN</td>\n",
       "      <td>NaN</td>\n",
       "      <td>False</td>\n",
       "    </tr>\n",
       "  </tbody>\n",
       "</table>\n",
       "</div>"
      ],
      "text/plain": [
       "  board  qty              name printing foil  alter  signed  condition  \\\n",
       "0  main    1        Accelerate      TOR  NaN    NaN     NaN        NaN   \n",
       "1  main    1    Balduvian Rage      CSP  NaN    NaN     NaN        NaN   \n",
       "2  main    1       Battle Hymn      AVR  NaN    NaN     NaN        NaN   \n",
       "3  main    1  Beetleback Chief      EMA  NaN    NaN     NaN        NaN   \n",
       "5  main    1     Boiling Blood      WTH  NaN    NaN     NaN        NaN   \n",
       "\n",
       "   languange tag_list  is_land  \n",
       "0        NaN      NaN    False  \n",
       "1        NaN      NaN    False  \n",
       "2        NaN      NaN    False  \n",
       "3        NaN      NaN    False  \n",
       "5        NaN      NaN    False  "
      ]
     },
     "execution_count": 9,
     "metadata": {},
     "output_type": "execute_result"
    }
   ],
   "source": [
    "deck.df.loc[:, 'is_land'] = deck.df.name.isin(all_land_card_names())\n",
    "\n",
    "main_board = deck.df[deck.df.board == 'main']\n",
    "main_board.head()"
   ]
  },
  {
   "cell_type": "code",
   "execution_count": 10,
   "metadata": {},
   "outputs": [
    {
     "data": {
      "text/plain": [
       "(100, 99, 36, 64)"
      ]
     },
     "execution_count": 10,
     "metadata": {},
     "output_type": "execute_result"
    }
   ],
   "source": [
    "num_cards = main_board.qty.sum()\n",
    "num_lands = main_board[main_board.is_land].qty.sum()\n",
    "num_non_lands = num_cards - num_lands\n",
    "num_drawable = num_cards - 1  # commander\n",
    "\n",
    "num_cards, num_drawable, num_lands, num_non_lands"
   ]
  },
  {
   "cell_type": "markdown",
   "metadata": {},
   "source": [
    "as an example, what is the probability that we will have 3 or more lands in our opening hand of 7 cards with this current deck makeup?"
   ]
  },
  {
   "cell_type": "code",
   "execution_count": 11,
   "metadata": {},
   "outputs": [
    {
     "data": {
      "text/plain": [
       "0.5010769598326307"
      ]
     },
     "execution_count": 11,
     "metadata": {},
     "output_type": "execute_result"
    }
   ],
   "source": [
    "hypergeom.sf(k=3 - 1,\n",
    "             M=num_drawable,\n",
    "             n=num_lands,\n",
    "             N=7)"
   ]
  },
  {
   "cell_type": "markdown",
   "metadata": {},
   "source": [
    "so what we want to get to now is an interactive where we control deck stats by adding or subtracting lands from the current state (maybe also support adding or subtracting non-lands?) and show the probability of making land drops with / without a first draw"
   ]
  },
  {
   "cell_type": "code",
   "execution_count": 12,
   "metadata": {},
   "outputs": [],
   "source": [
    "def foo(num_drawable, num_lands, max_num_turns=7, is_multiplayer=False):\n",
    "    fig, ax = plt.subplots(1, figsize=(12, 8))\n",
    "    \n",
    "    turns = np.arange(1, max_num_turns + 1)\n",
    "    for num_to_draw in range(0, max_num_turns):\n",
    "        ax.plot(turns,\n",
    "                np.array([hypergeom.sf(num_to_draw,\n",
    "                                       M=num_drawable,\n",
    "                                       n=num_lands,\n",
    "                                       N=7 + turn + is_multiplayer)\n",
    "                          for turn in turns]),\n",
    "                label='p(k >= {})'.format(num_to_draw + 1),\n",
    "                ls='--', marker='o')\n",
    "    \n",
    "    # this is one last \"hacky\" curve, which is the probability\n",
    "    # that we have at least 1 by turn 1, at least 2 by turn 2\n",
    "    # etc\n",
    "    ax.plot(turns,\n",
    "            np.array([hypergeom.sf(num_to_draw,\n",
    "                                   M=num_drawable,\n",
    "                                   n=num_lands,\n",
    "                                   N=7 + turn + is_multiplayer)\n",
    "                      for (num_to_draw, turn) in enumerate(turns)]),\n",
    "            label='p(k >= {})'.format(num_to_draw + 1),\n",
    "            ls='--', marker='o')\n",
    "        \n",
    "    ax.hlines(0.5, 1, max_num_turns, ls=':', label='50%', color='black')\n",
    "    ax.legend()\n",
    "    ax.set_xlabel('turn')\n",
    "    ax.set_ylabel('probability')\n",
    "\n",
    "# foo(num_drawable, num_lands)"
   ]
  },
  {
   "cell_type": "code",
   "execution_count": 13,
   "metadata": {},
   "outputs": [
    {
     "data": {
      "application/vnd.jupyter.widget-view+json": {
       "model_id": "2523502bdb63401397ba277af00370b4",
       "version_major": 2,
       "version_minor": 0
      },
      "text/plain": [
       "interactive(children=(IntSlider(value=0, description='delta_lands', max=5, min=-5), IntSlider(value=7, descrip…"
      ]
     },
     "metadata": {},
     "output_type": "display_data"
    }
   ],
   "source": [
    "@interact(delta_lands=IntSlider(0, -5, 5))\n",
    "def land_foo(delta_lands=0, max_num_turns=7, is_multiplayer=False):\n",
    "    foo(num_drawable=num_drawable + delta_lands - 1,\n",
    "        num_lands=num_lands + delta_lands,\n",
    "        max_num_turns=max_num_turns,\n",
    "        is_multiplayer=is_multiplayer)"
   ]
  },
  {
   "cell_type": "code",
   "execution_count": null,
   "metadata": {},
   "outputs": [],
   "source": []
  },
  {
   "cell_type": "code",
   "execution_count": null,
   "metadata": {},
   "outputs": [],
   "source": []
  },
  {
   "cell_type": "code",
   "execution_count": null,
   "metadata": {},
   "outputs": [],
   "source": []
  },
  {
   "cell_type": "code",
   "execution_count": null,
   "metadata": {},
   "outputs": [],
   "source": []
  },
  {
   "cell_type": "code",
   "execution_count": null,
   "metadata": {},
   "outputs": [],
   "source": []
  },
  {
   "cell_type": "code",
   "execution_count": null,
   "metadata": {},
   "outputs": [],
   "source": []
  }
 ],
 "metadata": {
  "kernelspec": {
   "display_name": "Python 3",
   "language": "python",
   "name": "python3"
  },
  "language_info": {
   "codemirror_mode": {
    "name": "ipython",
    "version": 3
   },
   "file_extension": ".py",
   "mimetype": "text/x-python",
   "name": "python",
   "nbconvert_exporter": "python",
   "pygments_lexer": "ipython3",
   "version": "3.7.3"
  },
  "toc": {
   "base_numbering": 1,
   "nav_menu": {},
   "number_sections": true,
   "sideBar": true,
   "skip_h1_title": false,
   "title_cell": "Table of Contents",
   "title_sidebar": "Contents",
   "toc_cell": false,
   "toc_position": {},
   "toc_section_display": true,
   "toc_window_display": false
  }
 },
 "nbformat": 4,
 "nbformat_minor": 2
}
