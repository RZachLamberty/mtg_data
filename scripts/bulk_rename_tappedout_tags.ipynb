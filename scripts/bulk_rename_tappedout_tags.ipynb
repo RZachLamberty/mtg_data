{
 "cells": [
  {
   "cell_type": "markdown",
   "metadata": {
    "collapsed": true
   },
   "source": [
    "# bulk rename of tappedout tags\n",
    "\n",
    "let's create aliases between existing tags in tappedout and \"real\" tags (or create new tags as needed) to try and bring the metamox and my custom representation closer together\n",
    "\n",
    "somewhat more details: let's iterate through the tags that exist currently on tappedout, and for each of those tags, if they are not currently in our neo database, do one of the two following things:\n",
    "\n",
    "    1. accept that as a valid new tag\n",
    "    2. remap it to an existing tag\n",
    "\n",
    "since this will be interactive, I'm prioritizing the notebook over the shell script here"
   ]
  },
  {
   "cell_type": "markdown",
   "metadata": {},
   "source": [
    "path munging:"
   ]
  },
  {
   "cell_type": "code",
   "execution_count": null,
   "metadata": {},
   "outputs": [],
   "source": [
    "import sys, os\n",
    "\n",
    "sys.path.insert(0, os.path.realpath('../'))"
   ]
  },
  {
   "cell_type": "code",
   "execution_count": 2,
   "metadata": {},
   "outputs": [
    {
     "ename": "ModuleNotFoundError",
     "evalue": "No module named 'mtg'",
     "output_type": "error",
     "traceback": [
      "\u001b[0;31m---------------------------------------------------------------------------\u001b[0m",
      "\u001b[0;31mModuleNotFoundError\u001b[0m                       Traceback (most recent call last)",
      "\u001b[0;32m<ipython-input-2-cc5f74892e97>\u001b[0m in \u001b[0;36m<module>\u001b[0;34m\u001b[0m\n\u001b[1;32m      9\u001b[0m \u001b[0;32mfrom\u001b[0m \u001b[0mneo4j\u001b[0m \u001b[0;32mimport\u001b[0m \u001b[0mbasic_auth\u001b[0m\u001b[0;34m,\u001b[0m \u001b[0mGraphDatabase\u001b[0m\u001b[0;34m\u001b[0m\u001b[0;34m\u001b[0m\u001b[0m\n\u001b[1;32m     10\u001b[0m \u001b[0;34m\u001b[0m\u001b[0m\n\u001b[0;32m---> 11\u001b[0;31m \u001b[0;32mfrom\u001b[0m \u001b[0mmtg\u001b[0m\u001b[0;34m.\u001b[0m\u001b[0mcredentials\u001b[0m \u001b[0;32mimport\u001b[0m \u001b[0mF_NEO_CONF\u001b[0m\u001b[0;34m,\u001b[0m \u001b[0mload_neo_config\u001b[0m\u001b[0;34m\u001b[0m\u001b[0;34m\u001b[0m\u001b[0m\n\u001b[0m\u001b[1;32m     12\u001b[0m \u001b[0;32mfrom\u001b[0m \u001b[0mmtg\u001b[0m\u001b[0;34m.\u001b[0m\u001b[0mextract\u001b[0m\u001b[0;34m.\u001b[0m\u001b[0mneo4j\u001b[0m \u001b[0;32mimport\u001b[0m \u001b[0mget_neo_tags\u001b[0m\u001b[0;34m\u001b[0m\u001b[0;34m\u001b[0m\u001b[0m\n\u001b[1;32m     13\u001b[0m from mtg.extract.tappedout import (TAPPEDOUT_SPECIAL_TAGS,\n",
      "\u001b[0;31mModuleNotFoundError\u001b[0m: No module named 'mtg'"
     ]
    }
   ],
   "source": [
    "import logging\n",
    "import pickle\n",
    "\n",
    "import networkx as nx\n",
    "import pandas as pd\n",
    "\n",
    "from IPython.display import display\n",
    "from ipywidgets import Button, Checkbox, Dropdown, Output, Text\n",
    "from neo4j import basic_auth, GraphDatabase\n",
    "\n",
    "from mtg.credentials import F_NEO_CONF, load_neo_config\n",
    "from mtg.extract.neo4j import get_neo_tags\n",
    "from mtg.extract.tappedout import build_categories_df, get_all_categories\n",
    "from mtg.load.nx2neo import digraph_to_neo\n",
    "from mtg.utils import init_logging"
   ]
  },
  {
   "cell_type": "markdown",
   "metadata": {},
   "source": [
    "## module constants"
   ]
  },
  {
   "cell_type": "code",
   "execution_count": null,
   "metadata": {},
   "outputs": [],
   "source": [
    "LOGGER = logging.getLogger('bulk_rename_tappedout_tags')\n",
    "LOGGER.setLevel(logging.DEBUG)"
   ]
  },
  {
   "cell_type": "markdown",
   "metadata": {},
   "source": [
    "## main functions"
   ]
  },
  {
   "cell_type": "code",
   "execution_count": null,
   "metadata": {},
   "outputs": [],
   "source": [
    "def submit_mapping(b):\n",
    "    unknown_tag = unknown_tag_selector.value\n",
    "    if ignore_check.value:\n",
    "        map_val = None\n",
    "    elif new_tag_text_input.value != '':\n",
    "        map_val = new_tag_text_input.value\n",
    "    else:\n",
    "        map_val = known_tag_selector.value\n",
    "    print('{} --> {}'.format(unknown_tag, map_val))\n",
    "    mapped[unknown_tag] = map_val\n",
    "    unknown_tag_selector.options = sorted(set(unknown_tag_selector.options)\n",
    "                                          .difference([unknown_tag]))\n",
    "    ignore_check.value = False\n",
    "    new_tag_text_input.value = ''"
   ]
  },
  {
   "cell_type": "code",
   "execution_count": null,
   "metadata": {},
   "outputs": [],
   "source": [
    "def build_tag_remapping(tappedout_tags, known_tags, alias_tags, mapped):\n",
    "    \"\"\"update the provided mapped dictionary interactively\"\"\"\n",
    "    tappedout_tag_values = {tag.replace('#', '').replace('_', ' ')\n",
    "                            for deck_id, tag_dict in tappedout_tags.items()\n",
    "                            for card_name, tag_list in tag_dict.items()\n",
    "                            for tag in tag_list}\n",
    "    \n",
    "    # if it's not a current tag, a known tag, or one of the items in the\n",
    "    # session's dynamic mapping dictionary, we need a new value\n",
    "    unknown_tags = sorted(set(tappedout_tag_values)\n",
    "                          .difference(known_tags)\n",
    "                          .difference(alias_tags)\n",
    "                          .difference(list(mapped.keys())))\n",
    "\n",
    "    unmapped = set(unknown_tags)\n",
    "\n",
    "    # widgets\n",
    "    unknown_tag_selector = Dropdown(options=sorted(unmapped))\n",
    "    known_tag_selector = Dropdown(options=sorted(known_tags))\n",
    "    new_tag_text_input = Text('')\n",
    "    ignore_check = Checkbox(False, description=\"ignore\", indent=False)\n",
    "    button = Button(description=\"map'em\")\n",
    "    output = Output()\n",
    "    \n",
    "    button.on_click(submit_mapping)\n",
    "    \n",
    "    display(unknown_tag_selector,\n",
    "            known_tag_selector,\n",
    "            new_tag_text_input,\n",
    "            ignore_check,\n",
    "            button,\n",
    "            output)"
   ]
  },
  {
   "cell_type": "code",
   "execution_count": null,
   "metadata": {},
   "outputs": [],
   "source": [
    "def build_tag_graphs(tappedout_tags, aliases):\n",
    "    \"\"\"create graphs mapping tapped out tags to \"real\" tags and the\n",
    "    cards that we tagged that way in TO to the \"real\" tags as well\n",
    "    \n",
    "    \"\"\"\n",
    "    # build the convenient df with all the aliases already built in\n",
    "    tappedout_tag_df = build_categories_df(tappedout_tags, aliases)\n",
    "    \n",
    "    # alias graph first\n",
    "    alias_df = (tappedout_tag_df\n",
    "                [(~tappedout_tag_df.is_special) & (tappedout_tag_df.tag.notna())]\n",
    "                [['tappedout_tag', 'tag']]\n",
    "                .copy()\n",
    "                .sort_values(by=['tappedout_tag', 'tag'])\n",
    "                .drop_duplicates())\n",
    "\n",
    "    nx_new_tags = nx.DiGraph()\n",
    "    nx_new_tags.add_nodes_from(alias_df.tappedout_tag.unique(),\n",
    "                               label='TappedOutTag')\n",
    "    nx_new_tags.add_nodes_from(alias_df.tag.unique(), label='Tag')\n",
    "    nx_new_tags.add_edges_from(alias_df[['tappedout_tag', 'tag']].values,\n",
    "                               _type=\"IS_ALIAS_OF\")\n",
    "    \n",
    "    # card to tag graph second\n",
    "    card_to_tag_df = tappedout_tag_df[tappedout_tag_df.tag.notna()]\n",
    "    nx_card_tags = nx.DiGraph()\n",
    "    nx_card_tags.add_nodes_from(card_to_tag_df.card.unique(),\n",
    "                                label='Card')\n",
    "    nx_card_tags.add_nodes_from(card_to_tag_df.tag.unique(), label='Tag')\n",
    "    nx_card_tags.add_edges_from(card_to_tag_df[['card', 'tag']].values,\n",
    "                               _type=\"HAS_TAG\")\n",
    "    \n",
    "    return nx_new_tags, nx_card_tags"
   ]
  },
  {
   "cell_type": "code",
   "execution_count": null,
   "metadata": {},
   "outputs": [],
   "source": [
    "def main(f_neo_conf=F_NEO_CONF, tapped_out_owner='ndlambo'):\n",
    "    # todo: add entrypoint here\n",
    "    neo_conf = load_neo_config(f_neo_conf)\n",
    "\n",
    "    known_tags, alias_tags, aliases = get_neo_tags(neo_conf)\n",
    "    tappedout_tags = get_all_categories(tapped_out_owner)\n",
    "\n",
    "#     tag_remapping = {}\n",
    "#     build_tag_remapping(tappedout_tags, known_tags, alias_tags, tag_remapping)\n",
    "    with open('mapped.pkl', 'rb') as fp:\n",
    "        tag_remapping = pickle.load(fp)\n",
    "    \n",
    "    # merge the remapping with the known aliases\n",
    "    aliases = dict(aliases)\n",
    "    aliases.update(tag_remapping)\n",
    "    nx_new_tags, nx_card_tags = build_tag_graphs(tappedout_tags, aliases)\n",
    "\n",
    "    # push graphs to neo4j\n",
    "    constraints = [('Tag', 'name'),\n",
    "                   ('TappedOutTag', 'name'),\n",
    "                   ('Card', 'name')]\n",
    "    digraph_to_neo(nx_new_tags, neo_conf, constraints)\n",
    "    digraph_to_neo(nx_card_tags, neo_conf, constraints)"
   ]
  },
  {
   "cell_type": "code",
   "execution_count": null,
   "metadata": {
    "scrolled": true
   },
   "outputs": [],
   "source": [
    "init_logging()\n",
    "main()"
   ]
  },
  {
   "cell_type": "markdown",
   "metadata": {},
   "source": [
    "# dev work"
   ]
  },
  {
   "cell_type": "code",
   "execution_count": null,
   "metadata": {},
   "outputs": [],
   "source": []
  },
  {
   "cell_type": "code",
   "execution_count": null,
   "metadata": {},
   "outputs": [],
   "source": []
  },
  {
   "cell_type": "code",
   "execution_count": null,
   "metadata": {},
   "outputs": [],
   "source": []
  },
  {
   "cell_type": "code",
   "execution_count": null,
   "metadata": {},
   "outputs": [],
   "source": []
  },
  {
   "cell_type": "code",
   "execution_count": null,
   "metadata": {},
   "outputs": [],
   "source": []
  },
  {
   "cell_type": "code",
   "execution_count": null,
   "metadata": {},
   "outputs": [],
   "source": []
  }
 ],
 "metadata": {
  "kernelspec": {
   "display_name": "Python 3",
   "language": "python",
   "name": "python3"
  },
  "language_info": {
   "codemirror_mode": {
    "name": "ipython",
    "version": 3
   },
   "file_extension": ".py",
   "mimetype": "text/x-python",
   "name": "python",
   "nbconvert_exporter": "python",
   "pygments_lexer": "ipython3",
   "version": "3.7.3"
  },
  "pycharm": {
   "stem_cell": {
    "cell_type": "raw",
    "metadata": {
     "collapsed": false
    },
    "source": []
   }
  },
  "toc": {
   "base_numbering": 1,
   "nav_menu": {},
   "number_sections": true,
   "sideBar": true,
   "skip_h1_title": false,
   "title_cell": "Table of Contents",
   "title_sidebar": "Contents",
   "toc_cell": false,
   "toc_position": {},
   "toc_section_display": true,
   "toc_window_display": false
  }
 },
 "nbformat": 4,
 "nbformat_minor": 1
}
