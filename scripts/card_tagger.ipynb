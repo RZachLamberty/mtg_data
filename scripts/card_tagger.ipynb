{
 "cells": [
  {
   "cell_type": "markdown",
   "metadata": {},
   "source": [
    "# card tagger\n",
    "\n",
    "simple enough\n",
    "\n",
    "1. generate a dropdown of all cards\n",
    "1. select a dropdown to update an image of the card and get the text\n",
    "1. tag shit"
   ]
  },
  {
   "cell_type": "code",
   "execution_count": 1,
   "metadata": {},
   "outputs": [],
   "source": [
    "import sys, os\n",
    "\n",
    "sys.path.insert(0, os.path.realpath('../'))"
   ]
  },
  {
   "cell_type": "code",
   "execution_count": 2,
   "metadata": {},
   "outputs": [],
   "source": [
    "import functools\n",
    "import logging\n",
    "\n",
    "import requests\n",
    "\n",
    "from IPython.display import Image, display\n",
    "from ipywidgets import Button, Checkbox, Dropdown, HTML, Output, SelectMultiple, Text\n",
    "\n",
    "from neo4j import basic_auth, GraphDatabase\n",
    "\n",
    "from mtg.cards import cards_df\n",
    "from mtg.credentials import F_NEO_CONF, load_neo_config\n",
    "from mtg.extract.tappedout import get_all_categories\n",
    "from mtg.load.nx2neo import digraph_to_neo, verify_constraints\n",
    "from mtg.utils import init_logging"
   ]
  },
  {
   "cell_type": "markdown",
   "metadata": {},
   "source": [
    "## logging"
   ]
  },
  {
   "cell_type": "code",
   "execution_count": 3,
   "metadata": {},
   "outputs": [],
   "source": [
    "LOGGER = logging.getLogger('card tagger')\n",
    "LOGGER.setLevel(logging.DEBUG)"
   ]
  },
  {
   "cell_type": "code",
   "execution_count": 4,
   "metadata": {},
   "outputs": [],
   "source": [
    "init_logging()"
   ]
  },
  {
   "cell_type": "markdown",
   "metadata": {},
   "source": [
    "## basic functionality"
   ]
  },
  {
   "cell_type": "code",
   "execution_count": 5,
   "metadata": {},
   "outputs": [],
   "source": [
    "@functools.lru_cache(None)\n",
    "def get_card_info():\n",
    "    return (cards_df()\n",
    "            .groupby('name')\n",
    "            .last()\n",
    "            .reset_index()\n",
    "            [['name', 'multiverseId']]\n",
    "            .dropna())"
   ]
  },
  {
   "cell_type": "code",
   "execution_count": 6,
   "metadata": {},
   "outputs": [],
   "source": [
    "@functools.lru_cache(None)\n",
    "def get_image_url(multiverseId):\n",
    "    url = 'https://api.scryfall.com/cards/multiverse/{}'.format(int(multiverseId))\n",
    "    return requests.get(url).json()['image_uris']['normal']"
   ]
  },
  {
   "cell_type": "code",
   "execution_count": 7,
   "metadata": {},
   "outputs": [],
   "source": [
    "KNOWN_NODES_QRY = \"MATCH (n:Tag) RETURN DISTINCT n.name AS name\"\n",
    "\n",
    "def get_neo_tags(neo_conf):\n",
    "    neo4juri = 'bolt://{ip}:{port}'.format(**neo_conf)\n",
    "    auth = basic_auth(neo_conf['user'], neo_conf['pw'])\n",
    "    with GraphDatabase.driver(neo4juri, auth=auth) as driver:\n",
    "        with driver.session() as session:\n",
    "            LOGGER.info('loading all known tags from {}'.format(neo4juri))\n",
    "            resp = session.run(KNOWN_NODES_QRY)\n",
    "            known_tags = {_['name'] for _ in resp.data()}\n",
    "            \n",
    "            return known_tags"
   ]
  },
  {
   "cell_type": "code",
   "execution_count": 8,
   "metadata": {},
   "outputs": [],
   "source": [
    "PUBLISH_TAGS_QRY = \"\"\"MATCH (c:Card {name: $card_name})\n",
    "MATCH (t:Tag {name: $tag_name})\n",
    "MERGE (c)-[:HAS_TAG]->(t)\"\"\"\n",
    "\n",
    "def publish_tags(neo_conf, card_name, tag_names):\n",
    "    neo4juri = 'bolt://{ip}:{port}'.format(**neo_conf)\n",
    "    auth = basic_auth(neo_conf['user'], neo_conf['pw'])\n",
    "    with GraphDatabase.driver(neo4juri, auth=auth) as driver:\n",
    "        with driver.session() as session:\n",
    "            LOGGER.info('publishing the provided tags to {}'.format(neo4juri))\n",
    "            for tag_name in tag_names:\n",
    "                LOGGER.info('({})-[:HAS_TAG]->({})'.format(card_name, tag_name))\n",
    "                resp = session.run(PUBLISH_TAGS_QRY,\n",
    "                                   card_name=card_name,\n",
    "                                   tag_name=tag_name)\n",
    "                LOGGER.info(resp.data())"
   ]
  },
  {
   "cell_type": "markdown",
   "metadata": {},
   "source": [
    "## building the display widgets"
   ]
  },
  {
   "cell_type": "code",
   "execution_count": 9,
   "metadata": {},
   "outputs": [],
   "source": [
    "cards = get_card_info()"
   ]
  },
  {
   "cell_type": "markdown",
   "metadata": {},
   "source": [
    "widget shit"
   ]
  },
  {
   "cell_type": "code",
   "execution_count": 10,
   "metadata": {},
   "outputs": [
    {
     "name": "stdout",
     "output_type": "stream",
     "text": [
      "2019-07-25 22:33:48,219 INFO     [card tagger.get_neo_tags:8] loading all known tags from bolt://localhost:7687\n"
     ]
    }
   ],
   "source": [
    "f_neo_conf = F_NEO_CONF\n",
    "tapped_out_owner='ndlambo'\n",
    "\n",
    "neo_conf = load_neo_config(f_neo_conf)\n",
    "\n",
    "neo_tags = get_neo_tags(neo_conf)"
   ]
  },
  {
   "cell_type": "code",
   "execution_count": 11,
   "metadata": {},
   "outputs": [],
   "source": [
    "# del card_name_selector, tag_name_selector, card_image, publish_button"
   ]
  },
  {
   "cell_type": "code",
   "execution_count": 12,
   "metadata": {},
   "outputs": [],
   "source": [
    "card_name_selector = Dropdown(options=cards.values.tolist())\n",
    "tag_name_selector = Dropdown(options=sorted(neo_tags))\n",
    "card_image = HTML(\"select card name to load\")\n",
    "publish_button = Button(description=\"publish'em\")"
   ]
  },
  {
   "cell_type": "code",
   "execution_count": 13,
   "metadata": {},
   "outputs": [
    {
     "data": {
      "text/html": [
       "<div>\n",
       "<style scoped>\n",
       "    .dataframe tbody tr th:only-of-type {\n",
       "        vertical-align: middle;\n",
       "    }\n",
       "\n",
       "    .dataframe tbody tr th {\n",
       "        vertical-align: top;\n",
       "    }\n",
       "\n",
       "    .dataframe thead th {\n",
       "        text-align: right;\n",
       "    }\n",
       "</style>\n",
       "<table border=\"1\" class=\"dataframe\">\n",
       "  <thead>\n",
       "    <tr style=\"text-align: right;\">\n",
       "      <th></th>\n",
       "      <th>name</th>\n",
       "      <th>multiverseId</th>\n",
       "    </tr>\n",
       "  </thead>\n",
       "  <tbody>\n",
       "    <tr>\n",
       "      <th>0</th>\n",
       "      <td>\"Ach! Hans, Run!\"</td>\n",
       "      <td>73935.0</td>\n",
       "    </tr>\n",
       "    <tr>\n",
       "      <th>1</th>\n",
       "      <td>\"Rumors of My Death . . .\"</td>\n",
       "      <td>439454.0</td>\n",
       "    </tr>\n",
       "    <tr>\n",
       "      <th>3</th>\n",
       "      <td>A Display of My Dark Power</td>\n",
       "      <td>212578.0</td>\n",
       "    </tr>\n",
       "    <tr>\n",
       "      <th>4</th>\n",
       "      <td>A Reckoning Approaches</td>\n",
       "      <td>430661.0</td>\n",
       "    </tr>\n",
       "    <tr>\n",
       "      <th>5</th>\n",
       "      <td>AWOL</td>\n",
       "      <td>74231.0</td>\n",
       "    </tr>\n",
       "  </tbody>\n",
       "</table>\n",
       "</div>"
      ],
      "text/plain": [
       "                         name  multiverseId\n",
       "0           \"Ach! Hans, Run!\"       73935.0\n",
       "1  \"Rumors of My Death . . .\"      439454.0\n",
       "3  A Display of My Dark Power      212578.0\n",
       "4      A Reckoning Approaches      430661.0\n",
       "5                        AWOL       74231.0"
      ]
     },
     "execution_count": 13,
     "metadata": {},
     "output_type": "execute_result"
    }
   ],
   "source": [
    "cards.head()"
   ]
  },
  {
   "cell_type": "code",
   "execution_count": 14,
   "metadata": {},
   "outputs": [],
   "source": [
    "def update_image(change):\n",
    "    \"\"\"when the card name has changed, update the image\"\"\"\n",
    "    try:\n",
    "        png_uri = get_image_url(change['new'])\n",
    "        card_image.value = '<img src=\"{}\" width=\"300\">'.format(png_uri)\n",
    "    except Exception as e:\n",
    "        LOGGER.info('unable to load image for change to {}'.format(change['new']))\n",
    "        card_image.value = 'select different card name'\n",
    "\n",
    "card_name_selector.observe(update_image, names='value')\n",
    "\n",
    "def publish_on_click(b):\n",
    "    \"\"\"publish shit to neo when a button has been clicked\"\"\"\n",
    "    card_name = cards[cards.multiverseId == card_name_selector.value].name.iloc[0]\n",
    "    publish_tags(neo_conf, card_name, [tag_name_selector.value])\n",
    "\n",
    "publish_button.on_click(publish_on_click)"
   ]
  },
  {
   "cell_type": "code",
   "execution_count": 15,
   "metadata": {
    "scrolled": false
   },
   "outputs": [
    {
     "data": {
      "application/vnd.jupyter.widget-view+json": {
       "model_id": "bc6049a5b0e641d4a75a73debc23a661",
       "version_major": 2,
       "version_minor": 0
      },
      "text/plain": [
       "Dropdown(options=(['\"Ach! Hans, Run!\"', 73935.0], ['\"Rumors of My Death . . .\"', 439454.0], ['A Display of My …"
      ]
     },
     "metadata": {},
     "output_type": "display_data"
    },
    {
     "data": {
      "application/vnd.jupyter.widget-view+json": {
       "model_id": "9699eddea26648738c9f04686ac238dc",
       "version_major": 2,
       "version_minor": 0
      },
      "text/plain": [
       "HTML(value='select card name to load')"
      ]
     },
     "metadata": {},
     "output_type": "display_data"
    },
    {
     "data": {
      "application/vnd.jupyter.widget-view+json": {
       "model_id": "97e83ac8a91140eca2a8827d513defcc",
       "version_major": 2,
       "version_minor": 0
      },
      "text/plain": [
       "Dropdown(options=('+1/+1 Counter Source', '06-06-18-esper-blink - Amplify', '06-06-18-esper-blink - Engine', '…"
      ]
     },
     "metadata": {},
     "output_type": "display_data"
    },
    {
     "data": {
      "application/vnd.jupyter.widget-view+json": {
       "model_id": "91cb2bda01c440d998f9dd3b72722a54",
       "version_major": 2,
       "version_minor": 0
      },
      "text/plain": [
       "Button(description=\"publish'em\", style=ButtonStyle())"
      ]
     },
     "metadata": {},
     "output_type": "display_data"
    }
   ],
   "source": [
    "display(card_name_selector,\n",
    "        card_image,\n",
    "        tag_name_selector,\n",
    "        publish_button)"
   ]
  },
  {
   "cell_type": "code",
   "execution_count": null,
   "metadata": {},
   "outputs": [],
   "source": []
  }
 ],
 "metadata": {
  "kernelspec": {
   "display_name": "Python 3",
   "language": "python",
   "name": "python3"
  },
  "language_info": {
   "codemirror_mode": {
    "name": "ipython",
    "version": 3
   },
   "file_extension": ".py",
   "mimetype": "text/x-python",
   "name": "python",
   "nbconvert_exporter": "python",
   "pygments_lexer": "ipython3",
   "version": "3.7.3"
  },
  "toc": {
   "base_numbering": 1,
   "nav_menu": {},
   "number_sections": true,
   "sideBar": true,
   "skip_h1_title": false,
   "title_cell": "Table of Contents",
   "title_sidebar": "Contents",
   "toc_cell": false,
   "toc_position": {},
   "toc_section_display": true,
   "toc_window_display": false
  }
 },
 "nbformat": 4,
 "nbformat_minor": 2
}
